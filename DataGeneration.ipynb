{
 "cells": [
  {
   "cell_type": "code",
   "execution_count": 2,
   "metadata": {},
   "outputs": [
    {
     "ename": "ModuleNotFoundError",
     "evalue": "No module named 'numpy'",
     "output_type": "error",
     "traceback": [
      "\u001b[0;31m---------------------------------------------------------------------------\u001b[0m",
      "\u001b[0;31mModuleNotFoundError\u001b[0m                       Traceback (most recent call last)",
      "\u001b[0;32m<ipython-input-2-e7852dd02b6f>\u001b[0m in \u001b[0;36m<module>\u001b[0;34m\u001b[0m\n\u001b[0;32m----> 1\u001b[0;31m \u001b[0;32mimport\u001b[0m \u001b[0mnumpy\u001b[0m \u001b[0;32mas\u001b[0m \u001b[0mnp\u001b[0m\u001b[0;34m\u001b[0m\u001b[0;34m\u001b[0m\u001b[0m\n\u001b[0m\u001b[1;32m      2\u001b[0m \u001b[0;32mimport\u001b[0m \u001b[0mpandas\u001b[0m \u001b[0;32mas\u001b[0m \u001b[0mpd\u001b[0m\u001b[0;34m\u001b[0m\u001b[0;34m\u001b[0m\u001b[0m\n\u001b[1;32m      3\u001b[0m \u001b[0;32mimport\u001b[0m \u001b[0mmatplotlib\u001b[0m\u001b[0;34m.\u001b[0m\u001b[0mpyplot\u001b[0m \u001b[0;32mas\u001b[0m \u001b[0mplt\u001b[0m\u001b[0;34m\u001b[0m\u001b[0;34m\u001b[0m\u001b[0m\n\u001b[1;32m      4\u001b[0m \u001b[0;32mfrom\u001b[0m \u001b[0mnumpy\u001b[0m \u001b[0;32mimport\u001b[0m \u001b[0mlinalg\u001b[0m \u001b[0;32mas\u001b[0m \u001b[0mLA\u001b[0m\u001b[0;34m\u001b[0m\u001b[0;34m\u001b[0m\u001b[0m\n\u001b[1;32m      5\u001b[0m \u001b[0;32mimport\u001b[0m \u001b[0mpywt\u001b[0m\u001b[0;34m\u001b[0m\u001b[0;34m\u001b[0m\u001b[0m\n",
      "\u001b[0;31mModuleNotFoundError\u001b[0m: No module named 'numpy'"
     ]
    }
   ],
   "source": [
    "import numpy as np\n",
    "import pandas as pd\n",
    "import matplotlib.pyplot as plt\n",
    "from numpy import linalg as LA\n",
    "import pywt"
   ]
  },
  {
   "cell_type": "code",
   "execution_count": 2,
   "metadata": {},
   "outputs": [],
   "source": [
    "class data_generation:\n",
    "    # Magnetizations M and magnetizations squared M2 below correspond to the energy levels above\n",
    "    M = [0, 0, 0, -0.5, 0.5, 0, 2.5, -2.5, 0]\n",
    "    M2 = [(0.4564**2)*(4*5)*2, (0.5401**2)*(4*5)*2, (0.7071**2)*(2*3)*2, \n",
    "          (0.3536**2)*(3*4) + (0.9354**2)*(1*2), (0.3536**2)*(3*4) + \n",
    "          (0.9354**2)*(1*2), (0.7071**2)*(4*5)*2, (0.9354**2)*(3*4) +\n",
    "          (0.3536**2)*(1*2), (0.9354**2)*(3*4) + (0.3536**2)*(1*2),\n",
    "          (0.7071**2)*(2*3)*2]\n",
    "    \n",
    "    \n",
    "    # Matrix that expresses the Gamma1, Gamma3, Gamma4, and Gamma5 \n",
    "    # states in terms of Jz eigenstates whereJZ states are ordered by eigenvalue in descending order\n",
    "    CFinJzbasis = np.matrix([[np.sqrt(5/24.), 0, 0, 0, np.sqrt(7/12.), 0, 0, 0, np.sqrt(5/24.)],\n",
    "                            [np.sqrt(7/24.), 0, 0, 0, -np.sqrt(5/12.), 0, 0, 0, np.sqrt(7/24.)],\n",
    "                            [0, 0, np.sqrt(1/2.), 0, 0, 0, np.sqrt(1/2.), 0, 0],\n",
    "                            [0, np.sqrt(1/8.), 0, 0, 0, np.sqrt(7/8.), 0, 0, 0],\n",
    "                            [0, 0, 0, np.sqrt(7/8.), 0, 0, 0, np.sqrt(1/8.), 0],\n",
    "                            [-np.sqrt(1/2.), 0, 0, 0, 0, 0, 0, 0, np.sqrt(1/2.)],\n",
    "                            [0, np.sqrt(7/8.), 0, 0, 0, -np.sqrt(1/8.), 0, 0, 0],\n",
    "                            [0, 0, 0, -np.sqrt(1/8.), 0, 0, 0, np.sqrt(7/8.), 0],\n",
    "                            [0, 0, -np.sqrt(1/2.), 0, 0, 0, np.sqrt(1/2.), 0, 0]])\n",
    "    \n",
    "    #Contribution of the magnetic field to the Hamiltonian\n",
    "    mag_field = np.diag([4, 3, 2, 1, 0, -1, -2, -3, -4])\n",
    "    CFinJzbasis_inv = LA.inv(CFinJzbasis)\n",
    "    \n",
    "    # Boltzmann constant. Since I am measuring everything in units of temperature it is set to 1\n",
    "    kb = 1\n",
    "    \n",
    "    \n",
    "    def beta(self, T):\n",
    "        \"\"\"\n",
    "        Inverse temperature, rather useful to define in statistical physics     \n",
    "        \n",
    "        Args:\n",
    "            T: Temperature in Kelvin   \n",
    "        Returns:\n",
    "            Inverse temperature    \n",
    "        \"\"\"\n",
    "        return 1 / (self.kb * T)\n",
    "    \n",
    "    \n",
    "    def generate_heat_data(self, data):\n",
    "        \"\"\"\n",
    "        Expression for specific heat\n",
    "        \n",
    "        Args:\n",
    "            data: Array of energy levels\n",
    "        Returns:\n",
    "            s_heat: Array of specific heat values from 1K-100K at a given step size\n",
    "        \"\"\"\n",
    "        # Parse energy levels\n",
    "        # el = self.format_data(data)\n",
    "        el = data\n",
    "        # Can change once we have Stephen's operators\n",
    "        mul = [1,2,3,3]\n",
    "        s_heat = []\n",
    "        \n",
    "        # Specific heat derived from second derivative of partition function, simplified. Took straight from Mathematica\n",
    "        def c(T):\n",
    "            if (len(el) != len(mul)):\n",
    "                raise ValueError(\"Levels and multiplicity don't have same length\")\n",
    "            numer = lambda T: np.sum(np.sum([[(mul[i] * mul[j-1]) * np.exp(-(el[i] + el[j-1])/T) * (el[i] - el[j-1])**2 for j in range(len(el), i+1, -1)] for i in range(len(el)-1)]))\n",
    "            denom = lambda T: (np.sum([mul[i]*np.exp(-el[i] * self.beta(T)) for i in range(len(el))])**2) * T**2\n",
    "            return numer(T)/denom(T)\n",
    "                \n",
    "        # Change max temperature and step size\n",
    "        temp = 200\n",
    "        step = 2 \n",
    "        for j in range(0, temp, step):\n",
    "            s_heat.append(c(j+1))  \n",
    "        return s_heat\n",
    "    \n",
    "    \n",
    "    def generate_susc_data(self, data):\n",
    "        \"\"\"\n",
    "        Expression for susceptibility\n",
    "        \n",
    "        Args:\n",
    "            data: Array of energy levels\n",
    "        Returns:\n",
    "            susc: Array of susceptibility values from 1K-100K at a given step size\n",
    "        \"\"\"\n",
    "        energyLevel = self.format_data(data)\n",
    "        susc = []\n",
    "        \n",
    "        #Magnetic field is 1/1000th of the smallest energy differences\n",
    "        B = min([abs(data[1]), abs(data[2]), abs(data[3]), abs(data[1]-data[2]), abs(data[2]-data[3]), abs(data[1]-data[3])])/1000        \n",
    "        #Crystal field Hamiltonian (ie the original energy levels)\n",
    "        HamCF = np.diag(energyLevel)\n",
    "        #Contribution of the magnetic field to the Hamiltonian\n",
    "        HamB = B * self.mag_field\n",
    "        #Total Hamiltonian\n",
    "        HamCFandB = (self.CFinJzbasis_inv @ HamCF @ self.CFinJzbasis) - HamB \n",
    "        #Solving the eigenvalue problem\n",
    "        Eigenvals, Eigenvecs = LA.eigh(HamCFandB)\n",
    "        #Calculating the magnetization for each eigenvector\n",
    "        Jz = []\n",
    "        for x in range(9):\n",
    "            Jz.append(np.sum([i*np.conj(i)*(5-(j+1)) for i,j in zip(Eigenvecs[:,x], range(len(Eigenvecs[:,x])))]))\n",
    "        #Partition function in field\n",
    "        ZinB = lambda T : np.sum([np.exp(-i * self.beta(T)) for i in Eigenvals])\n",
    "        \n",
    "        MexpinB = lambda T: (np.sum([i * np.exp(-j * self.beta(T)) for i,j in zip(Jz, Eigenvals)]) / ZinB(T))\n",
    "        chi = lambda T: abs(MexpinB(T)) / B\n",
    "        \n",
    "        # Change max temperature and step size\n",
    "        temp = 200\n",
    "        step = 2\n",
    "        for j in range(0, temp, step):\n",
    "            susc.append(chi(j+1))\n",
    "        return susc\n",
    "    \n",
    "    \n",
    "    def generate_mag_data(self, data):\n",
    "        \"\"\"\n",
    "        Expression for magnetization\n",
    "        \n",
    "        Args:\n",
    "            data: Array of energy levels\n",
    "        Returns:\n",
    "            MexpinBLowT: Array of magnetization values from 1T-10T at T=1.0\n",
    "            MexpinBMidT: Array of magnetization values from 1T-10T at T=100.0\n",
    "            MexpinBHighT: Array of magnetization values from 1T-10T at T=299.0\n",
    "        \"\"\"\n",
    "        energyLevel = self.format_data(data)\n",
    "        MexpinBLowT = []\n",
    "        MexpinBMidT = []\n",
    "        MexpinBHighT = []\n",
    "        \n",
    "        #Magnetization data collected at 3 temperatures: T=1, 150, and 299 Kelvin\n",
    "        #Magnetic field is varied from 1T to 10T in units of 0.2T (0.185T to get 50 datapoints)\n",
    "        nparr = np.arange(1*0.5373712344398849, 10*0.5473712344398849, 0.092*0.5373712344398849)\n",
    "        for B in nparr:\n",
    "            #Crystal field Hamiltonian (ie the original energy levels)\n",
    "            HamCF = np.diag(energyLevel)\n",
    "            #Contribution of the magnetic field to the Hamiltonian\n",
    "            HamB = B * self.mag_field\n",
    "            #Total Hamiltonian\n",
    "            HamCFandB = (self.CFinJzbasis_inv @ HamCF @ self.CFinJzbasis) - HamB\n",
    "            #Solving the eigenvalue problem\n",
    "            Eigenvals, Eigenvecs = LA.eigh(HamCFandB)\n",
    "            #Calculating the magnetization for each eigenvector\n",
    "            Jz = []\n",
    "            for x in range(9):\n",
    "                Jz.append(np.sum([i*np.conj(i)*(5-(j+1)) for i,j in zip(Eigenvecs[:,x], range(len(Eigenvecs[:,x])))]))\n",
    "            #Partition function in field\n",
    "            ZinB = lambda T : np.sum([np.exp(-i * self.beta(T)) for i in Eigenvals])\n",
    "            \n",
    "            T = 1.0\n",
    "            #Expectation value of the magnetization in field\n",
    "            MexpinBLowT.append(np.sum([i * np.exp(-j * self.beta(T)) for i,j in zip(Jz, Eigenvals)]) / ZinB(T))\n",
    "            \n",
    "            T = 150.0\n",
    "            #Expectation value of the magnetization in field\n",
    "            MexpinBMidT.append(np.sum([i * np.exp(-j * self.beta(T)) for i,j in zip(Jz, Eigenvals)]) / ZinB(T))\n",
    "\n",
    "            T = 299.0\n",
    "            #Expectation value of the magnetization in field\n",
    "            MexpinBHighT.append(np.sum([i * np.exp(-j * self.beta(T)) for i,j in zip(Jz, Eigenvals)]) / ZinB(T))\n",
    "\n",
    "        return (MexpinBLowT, MexpinBMidT, MexpinBHighT)\n",
    "    \n",
    "    \n",
    "    def format_data(self, energyLevels):\n",
    "        \"\"\"\n",
    "        Function to create energy levels matrix\n",
    "        \n",
    "        Args:\n",
    "            energyLevels: Array of energy levels\n",
    "        Returns:\n",
    "            data: Formatted array of energy levels with a length of 9        \n",
    "        \"\"\"\n",
    "        data = []\n",
    "        if (len(energyLevels) == 4):\n",
    "            data = [energyLevels[0],energyLevels[1],energyLevels[1],energyLevels[2],energyLevels[2],energyLevels[2],energyLevels[3],energyLevels[3],energyLevels[3]]\n",
    "        elif (len(energyLevels) == 3):\n",
    "            data = [0,energyLevels[0],energyLevels[0],energyLevels[1],energyLevels[1],energyLevels[1],energyLevels[2],energyLevels[2],energyLevels[2]]\n",
    "        elif (len(energyLevels) == 9):\n",
    "            data = energyLevels\n",
    "        return data\n",
    "    \n",
    "    \n",
    "################################### Automatic Data Generation  ###################################\n",
    "\n",
    "    def generate_energy_levels(self, num):\n",
    "        \"\"\"\n",
    "        Generate num number of energy levels sets.\n",
    "        E0 is set to 0. E3, E4, and E5 are the differences between E0 and the next levels.\n",
    "        \n",
    "        Args:\n",
    "            num: Number of energy levels sets to generate\n",
    "        Returns:\n",
    "            energyLevels: Array of energy levels   \n",
    "        \"\"\"\n",
    "        E1 = 0\n",
    "        energyLevels = []\n",
    "        for i in range(num):\n",
    "            E3 = np.random.uniform(low=-75.0, high=75.0)\n",
    "            E4 = np.random.uniform(low=-75.0, high=75.0)\n",
    "            E5 = np.random.uniform(low=-75.0, high=75.0)\n",
    "            new_target = [E1, E3, E4, E5]\n",
    "            energyLevels.append(new_target)\n",
    "        return energyLevels\n",
    "\n",
    "    \n",
    "    def generate_data(self, num):\n",
    "        \"\"\"\n",
    "        Generate num number of energy level sets.\n",
    "        Also generate susceptibility, specific heat, and magnetization data.\n",
    "        \n",
    "        Args:\n",
    "            num: Number of examples to generate\n",
    "        Returns:\n",
    "            eLs: Array of energy levels\n",
    "            data: Array of specific heat, susceptibility, and magnetization data, in that order\n",
    "        \"\"\"\n",
    "        eLs = self.generate_energy_levels(num)\n",
    "        data = []\n",
    "        \n",
    "        for i in range(len(eLs)):\n",
    "            row = []\n",
    "            row = self.generate_heat_data(eLs[i]) + self.generate_susc_data(eLs[i])\n",
    "           \n",
    "            low, mid, high = dg.generate_mag_data(eLs[i])\n",
    "            row = row + np.asarray(low).ravel().tolist()\n",
    "            row = row + np.asarray(mid).ravel().tolist()\n",
    "#             row = row + np.asarray(high).ravel().tolist()\n",
    "\n",
    "            if (i % 1000 == 0):\n",
    "                print('{} training examples generated'.format(i))\n",
    "            data.append(row)\n",
    "            \n",
    "        return (eLs, data)\n",
    "        \n",
    "##################################################################################################"
   ]
  },
  {
   "cell_type": "code",
   "execution_count": 3,
   "metadata": {},
   "outputs": [],
   "source": [
    "dg = data_generation()"
   ]
  },
  {
   "cell_type": "code",
   "execution_count": 82,
   "metadata": {},
   "outputs": [
    {
     "name": "stdout",
     "output_type": "stream",
     "text": [
      "E1: 0\n",
      "E3: -3.0741164953827393\n",
      "E4: 38.87619327396429\n",
      "E5: 25.022307714342844\n"
     ]
    }
   ],
   "source": [
    "#[E3, E4, E5]\n",
    "# energyLevels = [0, -7.868318060081819, 5.214400228782935, -51.170630907172594]\n",
    "energyLevels = [0, np.random.uniform(low=-75.0, high=75.0), np.random.uniform(low=-75.0, high=75.0), np.random.uniform(low=-75.0, high=75.0)]\n",
    "\n",
    "print('E1: {}'.format(energyLevels[0]))\n",
    "print('E3: {}'.format(energyLevels[1]))\n",
    "print('E4: {}'.format(energyLevels[2]))\n",
    "print('E5: {}'.format(energyLevels[3]))"
   ]
  },
  {
   "cell_type": "code",
   "execution_count": 83,
   "metadata": {},
   "outputs": [
    {
     "data": {
      "image/png": "[encoded data removed]",
      "text/plain": [
       "<Figure size 792x360 with 2 Axes>"
      ]
     },
     "metadata": {},
     "output_type": "display_data"
    },
    {
     "data": {
      "image/png": "[encoded data removed]",
      "text/plain": [
       "<Figure size 1224x360 with 3 Axes>"
      ]
     },
     "metadata": {},
     "output_type": "display_data"
    }
   ],
   "source": [
    "#Generating susceptibility, specific heat, and magnetization data\n",
    "susc = dg.generate_susc_data(energyLevels)\n",
    "susc = pd.DataFrame(np.asarray(susc).ravel())\n",
    "s_heat = pd.DataFrame(dg.generate_heat_data(energyLevels))\n",
    "\n",
    "fig, (ax, ax2) = plt.subplots(ncols=2)\n",
    "susc_plot = susc.plot(figsize=(11,5), title='Susceptibility', legend=False, ax=ax)\n",
    "susc_plot.set_xlabel('T(K)')\n",
    "s_heat_plot = s_heat.plot(figsize=(11,5),title='Specific Heat', legend=False, ax=ax2)\n",
    "s_heat_plot.set_xlabel('T(K)')\n",
    "plt.show()\n",
    "\n",
    "low, mid, high = dg.generate_mag_data(energyLevels)\n",
    "low_mag = pd.DataFrame(np.asarray(low).ravel())\n",
    "mid_mag = pd.DataFrame(np.asarray(mid).ravel())\n",
    "high_mag = pd.DataFrame(np.asarray(high).ravel())\n",
    "\n",
    "fig2, (ax3, ax4, ax5) = plt.subplots(ncols=3, figsize=(17, 5))\n",
    "low_mag_plot = low_mag.plot(title='Magnetization T=1', legend=False, ax=ax3)\n",
    "mid_mag_plot = mid_mag.plot(title='Magnetization T=150', legend=False, ax=ax4)\n",
    "high_mag_plot = high_mag.plot(title='Magnetization T=300', legend=False, ax=ax5)\n",
    "plt.show()"
   ]
  },
  {
   "cell_type": "code",
   "execution_count": 84,
   "metadata": {},
   "outputs": [
    {
     "name": "stdout",
     "output_type": "stream",
     "text": [
      "['cgau1', 'cgau2', 'cgau3', 'cgau4', 'cgau5', 'cgau6', 'cgau7', 'cgau8', 'cmor', 'fbsp', 'gaus1', 'gaus2', 'gaus3', 'gaus4', 'gaus5', 'gaus6', 'gaus7', 'gaus8', 'mexh', 'morl', 'shan']\n"
     ]
    }
   ],
   "source": [
    "print(pywt.wavelist(kind='continuous'))\n",
    "#gaus2\n",
    "#morl"
   ]
  },
  {
   "cell_type": "code",
   "execution_count": 88,
   "metadata": {},
   "outputs": [
    {
     "data": {
      "text/plain": [
       "<Figure size 432x288 with 0 Axes>"
      ]
     },
     "metadata": {},
     "output_type": "display_data"
    },
    {
     "data": {
      "image/png": "[encoded data removed]",
      "text/plain": [
       "<Figure size 792x792 with 4 Axes>"
      ]
     },
     "metadata": {},
     "output_type": "display_data"
    }
   ],
   "source": [
    "time = np.arange(1,101)\n",
    "scale = np.arange(1,101)\n",
    "levels = [0.0625, 0.125, 0.25, 0.5, 1, 2, 4, 8]\n",
    "contourlevels = np.log2(levels)\n",
    "wave = 'morl'\n",
    "\n",
    "fig = plt.figure()\n",
    "fig.subplots_adjust(hspace=0.4, wspace=0.4)\n",
    "\n",
    "[susc_coeff, susc_freq] = pywt.cwt(susc.squeeze(), scale, wave, 1)\n",
    "susc_power = (abs(susc_coeff)) ** 2\n",
    "susc_period = 1. / susc_freq\n",
    "\n",
    "[sheat_coeff, sheat_freq] = pywt.cwt(s_heat.squeeze(), scale, wave, 1)\n",
    "sheat_power = (abs(sheat_coeff)) ** 2\n",
    "sheat_period = 1. / sheat_freq\n",
    "\n",
    "[low_coeff, low_freq] = pywt.cwt(low_mag.squeeze(), scale, wave, 1)\n",
    "low_power = (abs(low_coeff)) ** 2\n",
    "low_period = 1. / low_freq\n",
    " \n",
    "[mid_coeff, mid_freq] = pywt.cwt(mid_mag.squeeze(), scale, wave, 1)\n",
    "mid_power = (abs(mid_coeff)) ** 2\n",
    "mid_period = 1. / mid_freq\n",
    " \n",
    "[hig_coeff, hig_freq] = pywt.cwt(high_mag.squeeze(), scale, wave, 1)\n",
    "hig_power = (abs(hig_coeff)) ** 2\n",
    "hig_period = 1. / hig_freq\n",
    "\n",
    "fig, ax = plt.subplots(ncols=2, nrows=2, figsize=(11,11))\n",
    "susc_plot = ax[0,0].contourf(time, np.log2(susc_period), np.log2(susc_power), contourlevels, extend='both',cmap=plt.cm.seismic)\n",
    "ax[0,0].set_title('Susceptibility')\n",
    "ax[0,0].axis('off')\n",
    "sheat_plot = ax[0,1].contourf(time, np.log2(sheat_period), np.log2(sheat_power), contourlevels, extend='both',cmap=plt.cm.seismic)\n",
    "ax[0,1].set_title('Specific Heat')\n",
    "ax[0,1].axis('off')\n",
    "\n",
    "low_mag_plot = ax[1,0].contourf(time, np.log2(low_period), np.log2(low_power), contourlevels, extend='both',cmap=plt.cm.seismic)\n",
    "ax[1,0].set_title('Magnetization T=1')\n",
    "ax[1,0].axis('off')\n",
    "mid_mag_plot = ax[1,1].contourf(time, np.log2(mid_period), np.log2(mid_power), contourlevels, extend='both',cmap=plt.cm.seismic)\n",
    "ax[1,1].set_title('Magnetization T=150')\n",
    "ax[1,1].axis('off')\n",
    "#hig_mag_plot = ax5.contourf(time, np.log2(hig_period), np.log2(hig_power), contourlevels, extend='both',cmap=plt.cm.seismic)\n",
    "plt.savefig('cwt.png', bbox_inches='tight')\n",
    "plt.show()\n"
   ]
  },
  {
   "cell_type": "code",
   "execution_count": 86,
   "metadata": {},
   "outputs": [],
   "source": [
    "# els = ['e1','e3','e4','e5']\n",
    "# mul = [1,2,3,3]\n",
    "# for i in range(len(els)-1):\n",
    "#     for j in range(len(els),i+1,-1):\n",
    "#         print(str(i) + str(j-1))\n",
    "#         print(els[i] + els[j-1])\n",
    "#         (mul[i] * mul[j-1]) * np.exp(-(els[i] + els[j-1])/beta(T)) * (els[i] - els[j-1])**2\n",
    "#     print(\"\\n\")"
   ]
  },
  {
   "cell_type": "code",
   "execution_count": 8,
   "metadata": {},
   "outputs": [
    {
     "name": "stdout",
     "output_type": "stream",
     "text": [
      "0 training examples generated\n"
     ]
    }
   ],
   "source": [
    "targets, data = dg.generate_data(1)\n",
    "targets_df = pd.DataFrame(targets)\n",
    "data_df = pd.DataFrame(data)\n",
    "targets_df.to_csv('generated_targets_1.csv', header=None, index=None)\n",
    "data_df.to_csv('generated_data_1.csv', header=None, index=None)"
   ]
  },
  {
   "cell_type": "code",
   "execution_count": 46,
   "metadata": {},
   "outputs": [],
   "source": [
    "# http://ataspinar.com/2018/12/21/a-guide-for-using-the-wavelet-transform-in-machine-learning/\n",
    "\n",
    "# x axis is time (temperature or magnetization)\n",
    "# y axis is period (1 / frequency) \n",
    "# color is power (related to the cwt coefficients)\n",
    "\n",
    "# scale is related to how detailed different frequencies can be"
   ]
  },
  {
   "cell_type": "code",
   "execution_count": null,
   "metadata": {},
   "outputs": [],
   "source": []
  }
 ],
 "metadata": {
  "kernelspec": {
   "display_name": "Python 3",
   "language": "python",
   "name": "python3"
  },
  "language_info": {
   "codemirror_mode": {
    "name": "ipython",
    "version": 3
   },
   "file_extension": ".py",
   "mimetype": "text/x-python",
   "name": "python",
   "nbconvert_exporter": "python",
   "pygments_lexer": "ipython3",
   "version": "3.7.4-final"
  }
 },
 "nbformat": 4,
 "nbformat_minor": 2
}