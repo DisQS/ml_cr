{
 "cells": [
  {
   "cell_type": "code",
   "execution_count": 1,
   "metadata": {},
   "outputs": [
    {
     "name": "stderr",
     "output_type": "stream",
     "text": [
      "Using TensorFlow backend.\n"
     ]
    }
   ],
   "source": [
    "from keras.models import Sequential\n",
    "from keras import optimizers\n",
    "from keras import models\n",
    "from keras import layers\n",
    "from keras.layers import BatchNormalization\n",
    "from keras.layers import Dropout\n",
    "\n",
    "import numpy as np\n",
    "import pandas as pd\n",
    "import seaborn as sns\n",
    "import pywt\n",
    "import matplotlib.pyplot as plt\n",
    "import joblib\n",
    "from sklearn.model_selection import train_test_split\n",
    "import joblib\n",
    "from sklearn import preprocessing"
   ]
  },
  {
   "cell_type": "code",
   "execution_count": 2,
   "metadata": {},
   "outputs": [],
   "source": [
    "group = 'Oh'\n",
    "J = '4'\n",
    "dir = './TrainingData_{}_{}/'.format(group, J)\n",
    "# dir = './Experimental_network/'.format(group, J)\n",
    "data = dir + 'generated_data_{}.csv'\n",
    "targets = dir + 'generated_targets_{}.csv'"
   ]
  },
  {
   "cell_type": "code",
   "execution_count": 3,
   "metadata": {},
   "outputs": [],
   "source": [
    "def cwt(data, channels=6, wavelet='morl'):\n",
    "    \"\"\"\n",
    "    Applies the continuous wavelet transformation on each dataset (susc, spec heat, magnetization at 4 temps) individually\n",
    "    and combines each convolution into a multi-channel image to be fed to the CNN\n",
    "    Args:\n",
    "        data: 1D array containing each dataset\n",
    "        channels: number of channels in the output image (susc, spec heat, magnetization at 4 temps)\n",
    "        waveletname: mother wavelet function to be used Can be any from \n",
    "            https://pywavelets.readthedocs.io/en/latest/ref/wavelets.html, specifically pywt.wavelist()\n",
    "\n",
    "    Returns:\n",
    "        Input data reshaped into a (shape x shape) image with 'channels' channels\n",
    "    \"\"\"\n",
    "    shape = data.shape[1]//channels\n",
    "    size = data.shape[0]\n",
    "    scales = np.arange(1, shape+1)\n",
    "\n",
    "    data_cwt = np.ndarray(shape=(size, shape, shape, channels), dtype=np.float16)\n",
    "    for i in range(size):\n",
    "        if (i % 1000 == 0):\n",
    "            print('.', end='')\n",
    "\n",
    "        # generating each of the channels\n",
    "        for j in range(channels):\n",
    "            signal = data[i][j*shape: shape+(j*shape)]\n",
    "            coeff, freq = pywt.cwt(signal, scales, wavelet, 1)\n",
    "            data_cwt[i, :, :, j] = coeff\n",
    "\n",
    "    return data_cwt"
   ]
  },
  {
   "cell_type": "code",
   "execution_count": 4,
   "metadata": {},
   "outputs": [],
   "source": [
    "x_train = np.array(pd.read_csv(data.format(1000), header=None))\n",
    "y_train = np.array(pd.read_csv(targets.format(1000), header=None))\n",
    "channels = len(x_train[0])//64\n",
    "# x_train = cwt(x_train, channels=channels)"
   ]
  },
  {
   "cell_type": "code",
   "execution_count": null,
   "metadata": {},
   "outputs": [],
   "source": [
    "# x_train, x_test, y_train, y_test = train_test_split(x, y, test_size=0.2)\n",
    "x_train = np.array(pd.read_csv(data.format(50000), header=None))\n",
    "y_train = np.array(pd.read_csv(targets.format(50000), header=None))\n",
    "channels = len(x_train[0])//64\n",
    "\n",
    "x_test = np.array(pd.read_csv(data.format(10000), header=None))\n",
    "y_test = np.array(pd.read_csv(targets.format(10000), header=None))"
   ]
  },
  {
   "cell_type": "code",
   "execution_count": null,
   "metadata": {},
   "outputs": [],
   "source": [
    "x_val = x_test[:2000]\n",
    "x_test = x_test[2000:]\n",
    "y_val = y_test[:2000]\n",
    "y_test = y_test[2000:]\n",
    "\n",
    "x_val = cwt(x_val, channels=channels)\n",
    "print('x_val finished')\n",
    "x_train = cwt(x_train, channels=channels)\n",
    "print('x_train finished')\n",
    "x_test = cwt(x_test, channels=channels)\n",
    "\n",
    "# center the image data for each channel (mean of zero)\n",
    "x_mean = np.mean(x_train, axis=(0,1,2), keepdims=True)\n",
    "x_train -= x_mean\n",
    "x_val -= x_mean\n",
    "x_test -= x_mean"
   ]
  },
  {
   "cell_type": "code",
   "execution_count": null,
   "metadata": {},
   "outputs": [],
   "source": [
    "# normalize each of the targets (mean of zero and std of one)\n",
    "y_mean = np.mean(y_train, axis=(0,), keepdims=True)\n",
    "y_train -= y_mean\n",
    "y_val -= y_mean\n",
    "y_test -= y_mean\n",
    "y_std = np.std(y_train, axis=(0,), keepdims=True)\n",
    "y_train /= y_std\n",
    "y_val /= y_std\n",
    "y_test /= y_std"
   ]
  },
  {
   "cell_type": "code",
   "execution_count": 5,
   "metadata": {},
   "outputs": [],
   "source": [
    "x_mean = np.load(dir + 'x_mean_{}_{}.npy'.format(group, J))\n",
    "y_mean = np.load(dir + 'y_mean_{}_{}.npy'.format(group, J))\n",
    "y_std = np.load(dir + 'y_std_{}_{}.npy'.format(group, J))"
   ]
  },
  {
   "cell_type": "code",
   "execution_count": 6,
   "metadata": {},
   "outputs": [
    {
     "name": "stdout",
     "output_type": "stream",
     "text": [
      "Model: \"sequential_1\"\n",
      "_________________________________________________________________\n",
      "Layer (type)                 Output Shape              Param #   \n",
      "=================================================================\n",
      "conv2d_1 (Conv2D)            (None, 62, 62, 96)        4416      \n",
      "_________________________________________________________________\n",
      "conv2d_2 (Conv2D)            (None, 60, 60, 96)        83040     \n",
      "_________________________________________________________________\n",
      "batch_normalization_1 (Batch (None, 60, 60, 96)        384       \n",
      "_________________________________________________________________\n",
      "max_pooling2d_1 (MaxPooling2 (None, 30, 30, 96)        0         \n",
      "_________________________________________________________________\n",
      "conv2d_3 (Conv2D)            (None, 28, 28, 256)       221440    \n",
      "_________________________________________________________________\n",
      "conv2d_4 (Conv2D)            (None, 26, 26, 256)       590080    \n",
      "_________________________________________________________________\n",
      "batch_normalization_2 (Batch (None, 26, 26, 256)       1024      \n",
      "_________________________________________________________________\n",
      "max_pooling2d_2 (MaxPooling2 (None, 13, 13, 256)       0         \n",
      "_________________________________________________________________\n",
      "conv2d_5 (Conv2D)            (None, 11, 11, 64)        147520    \n",
      "_________________________________________________________________\n",
      "conv2d_6 (Conv2D)            (None, 9, 9, 64)          36928     \n",
      "_________________________________________________________________\n",
      "batch_normalization_3 (Batch (None, 9, 9, 64)          256       \n",
      "_________________________________________________________________\n",
      "max_pooling2d_3 (MaxPooling2 (None, 4, 4, 64)          0         \n",
      "_________________________________________________________________\n",
      "flatten_1 (Flatten)          (None, 1024)              0         \n",
      "_________________________________________________________________\n",
      "dense_1 (Dense)              (None, 4096)              4198400   \n",
      "_________________________________________________________________\n",
      "batch_normalization_4 (Batch (None, 4096)              16384     \n",
      "_________________________________________________________________\n",
      "dropout_1 (Dropout)          (None, 4096)              0         \n",
      "_________________________________________________________________\n",
      "dense_2 (Dense)              (None, 2048)              8390656   \n",
      "_________________________________________________________________\n",
      "batch_normalization_5 (Batch (None, 2048)              8192      \n",
      "_________________________________________________________________\n",
      "dropout_2 (Dropout)          (None, 2048)              0         \n",
      "_________________________________________________________________\n",
      "dense_3 (Dense)              (None, 2)                 4098      \n",
      "=================================================================\n",
      "Total params: 13,702,818\n",
      "Trainable params: 13,689,698\n",
      "Non-trainable params: 13,120\n",
      "_________________________________________________________________\n",
      "None\n"
     ]
    }
   ],
   "source": [
    "model = models.Sequential()\n",
    "\n",
    "model.add(layers.Conv2D(96, (3, 3), activation='relu', input_shape=(64, 64, channels)))\n",
    "model.add(layers.Conv2D(96, (3, 3), activation='relu'))\n",
    "model.add(layers.BatchNormalization())\n",
    "model.add(layers.MaxPooling2D(pool_size=(2, 2), strides=(2, 2)))\n",
    "\n",
    "model.add(layers.Conv2D(256, (3, 3), activation='relu'))\n",
    "model.add(layers.Conv2D(256, (3, 3), activation='relu'))\n",
    "model.add(layers.BatchNormalization())\n",
    "model.add(layers.MaxPooling2D(pool_size=(2, 2), strides=(2, 2)))\n",
    "\n",
    "model.add(layers.Conv2D(64, (3, 3), activation='relu'))\n",
    "model.add(layers.Conv2D(64, (3, 3), activation='relu'))\n",
    "model.add(layers.BatchNormalization())\n",
    "model.add(layers.MaxPooling2D(pool_size=(2, 2), strides=(2, 2)))\n",
    "model.add(layers.Flatten())\n",
    "\n",
    "model.add(layers.Dense(4096, activation='relu'))\n",
    "model.add(layers.BatchNormalization())\n",
    "model.add(Dropout(0.3))\n",
    "\n",
    "model.add(layers.Dense(2048, activation='relu'))\n",
    "model.add(layers.BatchNormalization())\n",
    "model.add(Dropout(0.3))\n",
    "\n",
    "model.add(layers.Dense(len(y_train[0])))\n",
    "print(model.summary())"
   ]
  },
  {
   "cell_type": "code",
   "execution_count": 7,
   "metadata": {},
   "outputs": [],
   "source": [
    "from keras.models import load_model\n",
    "model = load_model(dir + '{}_{}_model.h5'.format(group, J))"
   ]
  },
  {
   "cell_type": "code",
   "execution_count": null,
   "metadata": {},
   "outputs": [],
   "source": [
    "model.compile(optimizer='adam', loss='mse', metrics=['mae'])\n",
    "history = model.fit(x_train,\n",
    "    y_train,\n",
    "    epochs=2,\n",
    "    batch_size=256,\n",
    "    validation_data=(x_val, y_val))\n",
    "\n",
    "average_mae_history = history.history['val_mae']\n",
    "plt.plot(range(1, len(average_mae_history) + 1), average_mae_history)\n",
    "plt.xlabel('Epochs')\n",
    "plt.ylabel('Validation MAE')\n",
    "plt.show()"
   ]
  },
  {
   "cell_type": "code",
   "execution_count": null,
   "metadata": {},
   "outputs": [],
   "source": [
    "model.evaluate(example_x, (y_real-y_mean)/y_std)"
   ]
  },
  {
   "cell_type": "code",
   "execution_count": 8,
   "metadata": {},
   "outputs": [],
   "source": [
    "y_real = np.array(pd.read_csv(dir + 'generated_targets_1000.csv', header=None))\n",
    "example_x = np.array(pd.read_csv(dir + 'generated_data_1000.csv', header=None))"
   ]
  },
  {
   "cell_type": "code",
   "execution_count": 9,
   "metadata": {},
   "outputs": [
    {
     "name": "stdout",
     "output_type": "stream",
     "text": [
      "."
     ]
    }
   ],
   "source": [
    "from sklearn import metrics\n",
    "example_x = cwt(example_x, channels=channels)\n",
    "example_x -= x_mean\n",
    "y_pred = model.predict(example_x)\n",
    "y_pred = (y_pred * y_std) + y_mean"
   ]
  },
  {
   "cell_type": "code",
   "execution_count": 13,
   "metadata": {},
   "outputs": [
    {
     "name": "stdout",
     "output_type": "stream",
     "text": [
      "Mean absolute error: 1.0572087374830668\n",
      "Mean squared error: 5.818187815000445\n",
      "Explained varience score: 0.9930958903236562\n",
      "r^2 score: 0.9930874760698749\n",
      "\n"
     ]
    }
   ],
   "source": [
    "for i in range(len(y_pred[0])-1):\n",
    "    print('Mean absolute error: {}'.format(metrics.mean_absolute_error(y_real[:,i], y_pred[:,i])))\n",
    "    print('Mean squared error: {}'.format(metrics.mean_squared_error(y_real[:,i], y_pred[:,i])))\n",
    "    print('Explained varience score: {}'.format(metrics.explained_variance_score(y_real[:,i], y_pred[:,i])))\n",
    "    print('r^2 score: {}'.format(metrics.r2_score(y_real[:,i], y_pred[:,i])))\n",
    "    print()"
   ]
  },
  {
   "cell_type": "code",
   "execution_count": 32,
   "metadata": {},
   "outputs": [],
   "source": [
    "res = pd.DataFrame()\n",
    "\n",
    "for i in range(len(y_pred[0])):\n",
    "    res['pred{}'.format(i)] = np.array(y_pred[:,i])\n",
    "    res['real{}'.format(i)] = pd.DataFrame(y_real).reset_index(drop=True)[i]\n",
    "    res['error{}'.format(i)] = res['pred{}'.format(i)] - res['real{}'.format(i)]"
   ]
  },
  {
   "cell_type": "code",
   "execution_count": null,
   "metadata": {},
   "outputs": [],
   "source": [
    "bad = pd.DataFrame()\n",
    "bad = res.loc[abs(res['error3']) >= 0.5]\n",
    "fig, ax = plt.subplots(ncols=len(y_pred[0])-1, nrows=1, figsize=(4*len(y_pred[0])-2,5)) #4 to tetra, 3.65 for hex\n",
    "zs = np.array([])\n",
    "for i in range(1, len(y_pred[0])-1):\n",
    "    zs = np.concatenate([zs, bad['error{}'.format(i)]], axis=0)\n",
    "min_, max_ = zs.min(), zs.max()\n",
    "norm = plt.Normalize(min_, max_)\n",
    "\n",
    "for i in range(0, len(y_pred[0])-1):\n",
    "    p = ax[i].scatter(bad['real{}'.format(i)], bad['pred{}'.format(i)], c=bad['real{}'.format(i)]-bad['pred{}'.format(i)], norm=norm)\n",
    "    if (i > 0):\n",
    "        ax[i].plot([-1, 1], [-1, 1], c='r', ls='--')\n",
    "    else:\n",
    "        ax[i].plot([0, 50], [0, 50], c='r', ls='--')\n",
    "#     ax2 = plt.axes([0.23+((i-1)*0.201), 0.24, 0.20/(len(y_pred[0])-2), 0.22]) # 0.23+((i-1)*0.201) for tetragonal\n",
    "                                                                             # 0.27+((i-1)*0.27) for hex\n",
    "#     sns.distplot(bad['error{}'.format(i)], color=\"g\", kde=True, ax=ax2, norm_hist=True)\n",
    "    ax2.set_xlabel('Absolute error')\n",
    "    ax2.set_ylabel('Density')\n",
    "    ax2.patch.set_alpha(0.5)\n",
    "    \n",
    "    ax[i].set_xlabel('True $x_{}$'.format(i), fontsize=16)\n",
    "\n",
    "cb = colorbar(p, False)\n",
    "cb.ax.set_ylabel('Absolute error', fontsize=16)"
   ]
  },
  {
   "cell_type": "code",
   "execution_count": null,
   "metadata": {},
   "outputs": [],
   "source": [
    "fig, ax = plt.subplots(ncols=len(y_pred[0])-2, nrows=1, figsize=(4*len(y_pred[0])-2,5)) #4 to tetra, 3.65 for hex\n",
    "zs = np.array([])\n",
    "for i in range(1, len(y_pred[0])-1):\n",
    "    zs = np.concatenate([zs, res['error{}'.format(i)]], axis=0)\n",
    "min_, max_ = zs.min(), zs.max()\n",
    "norm = plt.Normalize(min_, max_)\n",
    "\n",
    "for i in range(1, len(y_pred[0])-1):\n",
    "    p = ax[i-1].scatter(res['real{}'.format(i)], res['pred{}'.format(i)], c=res['real{}'.format(i)]-res['pred{}'.format(i)], norm=norm)\n",
    "    if (i > 0):\n",
    "        ax[i-1].plot([-1, 1], [-1, 1], c='r', ls='--')\n",
    "    else:\n",
    "        ax[i-1].plot([0, 50], [0, 50], c='r', ls='--')\n",
    "    ax2 = plt.axes([0.23+((i-1)*0.201), 0.24, 0.20/(len(y_pred[0])-2), 0.22]) # (0.23+((i-1)*0.201) for tetragonal\n",
    "                                                                             # 0.27+((i-1)*0.27) for hex\n",
    "    sns.distplot(res['error{}'.format(i)], color=\"g\", kde=True, ax=ax2, norm_hist=True)\n",
    "    ax2.set_xlabel('Absolute error')\n",
    "    ax2.set_ylabel('Density')\n",
    "    ax2.patch.set_alpha(0.5)\n",
    "    \n",
    "    ax[i-1].set_xlabel('True $x_{}$'.format(i), fontsize=16)\n",
    "\n",
    "cb = colorbar(p, False)\n",
    "cb.ax.set_ylabel('Absolute error', fontsize=16)"
   ]
  },
  {
   "cell_type": "code",
   "execution_count": null,
   "metadata": {},
   "outputs": [],
   "source": [
    "fig, ax = plt.subplots(ncols=1, nrows=1, figsize=(5,5))\n",
    "for i in range(1):\n",
    "    i = 4\n",
    "    p = ax.scatter(res['real{}'.format(i)], res['pred{}'.format(i)], c=res['real{}'.format(i)]-res['pred{}'.format(i)])\n",
    "\n",
    "#     ax.plot([0, 50], [0, 50], c='r', ls='--')\n",
    "    \n",
    "ax.set_xlabel(f'True $x_{i}$', fontsize=16)\n",
    "ax.set_ylabel(f'Predicted $x_{i}$', fontsize=16)\n",
    "# ax2 = plt.axes([0.58, 0.24, 0.22, 0.22])\n",
    "ax2.patch.set_alpha(0.5)\n",
    "# sns.distplot(res['error0'], color=\"g\", kde=True, ax=ax2, norm_hist=True)\n",
    "ax2.set_xlabel('Absolute error')\n",
    "ax2.set_ylabel('Density')\n",
    "cb = colorbar(p, True)"
   ]
  },
  {
   "cell_type": "code",
   "execution_count": null,
   "metadata": {},
   "outputs": [],
   "source": [
    "from sklearn.metrics import confusion_matrix\n",
    "from sklearn.metrics import classification_report\n",
    "\n",
    "last_real = [0 if i < 0 else 1 for i in y_real[:,len(y_pred[0])-1]]\n",
    "last_pred = [0 if i < 0 else 1 for i in y_pred[:,len(y_pred[0])-1]]\n",
    "report = classification_report(last_real, last_pred)\n",
    "print(report)"
   ]
  },
  {
   "cell_type": "code",
   "execution_count": null,
   "metadata": {},
   "outputs": [],
   "source": [
    "fig, ax = plt.subplots(ncols=len(y_pred[0]), nrows=1, figsize=(3.5*len(y_pred[0]),3.5))\n",
    "for i in range(len(y_pred[0])):\n",
    "    sns.distplot(y_real[:,i], color=\"g\", kde=True, norm_hist=True, ax=ax[i])"
   ]
  },
  {
   "cell_type": "code",
   "execution_count": 12,
   "metadata": {},
   "outputs": [
    {
     "name": "stdout",
     "output_type": "stream",
     "text": [
      "Mean absolute error: 1.075751154615275\n",
      "Mean squared error: 4.174134984281329\n",
      "Explained varience score: 0.9954420939936527\n",
      "r^2 score: 0.9950407568672798\n",
      "\n",
      "Mean absolute error: 0.04256436050027688\n",
      "Mean squared error: 0.010220558298691623\n",
      "Explained varience score: 0.9678151376974116\n",
      "r^2 score: 0.9677871157918996\n",
      "\n"
     ]
    }
   ],
   "source": [
    "for i in range(len(y_pred[0])):\n",
    "    print('Mean absolute error: {}'.format(metrics.mean_absolute_error(y_real[:,i], y_pred[:,i])))\n",
    "    print('Mean squared error: {}'.format(metrics.mean_squared_error(y_real[:,i], y_pred[:,i])))\n",
    "    print('Explained varience score: {}'.format(metrics.explained_variance_score(y_real[:,i], y_pred[:,i])))\n",
    "    print('r^2 score: {}'.format(metrics.r2_score(y_real[:,i], y_pred[:,i])))\n",
    "    print()"
   ]
  },
  {
   "cell_type": "code",
   "execution_count": 11,
   "metadata": {},
   "outputs": [],
   "source": [
    "def colorbar(mappable, ints):\n",
    "    from mpl_toolkits.axes_grid1 import make_axes_locatable\n",
    "    import matplotlib.pyplot as plt\n",
    "    last_axes = plt.gca()\n",
    "    ax = mappable.axes\n",
    "    fig = ax.figure\n",
    "    divider = make_axes_locatable(ax)\n",
    "    cax = divider.append_axes(position=\"right\", size=\"5%\", pad=0.05)\n",
    "    cbar = fig.colorbar(mappable, cax=cax)\n",
    "    if (ints):\n",
    "        cax.set_yticklabels(['{:,}'.format(int(x)) for x in cax.get_yticks().tolist()])\n",
    "    plt.sca(last_axes)\n",
    "    return cbar"
   ]
  },
  {
   "cell_type": "code",
   "execution_count": 13,
   "metadata": {},
   "outputs": [
    {
     "ename": "NameError",
     "evalue": "name 'ax2' is not defined",
     "output_type": "error",
     "traceback": [
      "\u001b[1;31m---------------------------------------------------------------------------\u001b[0m",
      "\u001b[1;31mNameError\u001b[0m                                 Traceback (most recent call last)",
      "\u001b[1;32m<ipython-input-13-b3396fdb2388>\u001b[0m in \u001b[0;36m<module>\u001b[1;34m()\u001b[0m\n\u001b[0;32m     27\u001b[0m \u001b[1;33m\u001b[0m\u001b[0m\n\u001b[0;32m     28\u001b[0m \u001b[1;31m# sns.distplot(error2, color=\"g\", kde=True, ax=ax2, norm_hist=True)\u001b[0m\u001b[1;33m\u001b[0m\u001b[1;33m\u001b[0m\u001b[1;33m\u001b[0m\u001b[0m\n\u001b[1;32m---> 29\u001b[1;33m \u001b[0max2\u001b[0m\u001b[1;33m.\u001b[0m\u001b[0mset_xlabel\u001b[0m\u001b[1;33m(\u001b[0m\u001b[1;34m'Absolute error'\u001b[0m\u001b[1;33m)\u001b[0m\u001b[1;33m\u001b[0m\u001b[1;33m\u001b[0m\u001b[0m\n\u001b[0m\u001b[0;32m     30\u001b[0m \u001b[0max2\u001b[0m\u001b[1;33m.\u001b[0m\u001b[0mset_ylabel\u001b[0m\u001b[1;33m(\u001b[0m\u001b[1;34m'Density'\u001b[0m\u001b[1;33m)\u001b[0m\u001b[1;33m\u001b[0m\u001b[1;33m\u001b[0m\u001b[0m\n",
      "\u001b[1;31mNameError\u001b[0m: name 'ax2' is not defined"
     ]
    },
    {
     "data": {
      "image/png": "[encoded data removed]",
      "text/plain": [
       "<Figure size 360x360 with 2 Axes>"
      ]
     },
     "metadata": {},
     "output_type": "display_data"
    }
   ],
   "source": [
    "import matplotlib.pyplot as plt\n",
    "\n",
    "wx_real = [y_real[:,0][i]*y_real[:,1][i] for i in range(len(y_real))]\n",
    "wx_pred = [y_pred[:,0][i]*y_pred[:,1][i] for i in range(len(y_pred))]\n",
    "\n",
    "fig, ax = plt.subplots(ncols=1, nrows=1, figsize=(5,5))\n",
    "# ax2 = plt.axes([0.58, 0.24, 0.22, 0.22])\n",
    "# ax3 = plt.axes([0.735, 0.22, 0.12, 0.24])\n",
    "# fig.subplots_adjust(left=0, bottom=None, right=None, top=None, wspace=None, hspace=None)\n",
    "error0 = y_real[:,0]-y_pred[:,0]\n",
    "error1 = y_real[:,1]-y_pred[:,1]\n",
    "error2 = [wx_real[i]-wx_pred[i] for i in range(len(wx_real))]\n",
    "# df['Target'] = df['Target'].astype('category')\n",
    "\n",
    "p1 = ax.scatter(wx_real, wx_pred, c=error2)\n",
    "cb = colorbar(p1, False)\n",
    "# cb.ax.set_ylabel('Absolute error')\n",
    "\n",
    "ax.set_xlabel('True Wx', fontsize=16)\n",
    "ax.set_ylabel('Predicted Wx', fontsize=16)\n",
    "# legend1 = ax[0].legend(*p1.legend_elements(num=5), loc='upper left', title='Absolute error')\n",
    "# ax.plot([0, 50], [0, 50], c='r', ls='--')\n",
    "\n",
    "\n",
    "\n",
    "\n",
    "\n",
    "# sns.distplot(error2, color=\"g\", kde=True, ax=ax2, norm_hist=True)\n",
    "ax2.set_xlabel('Absolute error')\n",
    "ax2.set_ylabel('Density')\n",
    "\n"
   ]
  },
  {
   "cell_type": "code",
   "execution_count": 14,
   "metadata": {},
   "outputs": [
    {
     "data": {
      "text/plain": [
       "Text(0, 0.5, 'Density')"
      ]
     },
     "execution_count": 14,
     "metadata": {},
     "output_type": "execute_result"
    },
    {
     "data": {
      "image/png": "[encoded data removed]",
      "text/plain": [
       "<Figure size 360x360 with 3 Axes>"
      ]
     },
     "metadata": {},
     "output_type": "display_data"
    }
   ],
   "source": [
    "import matplotlib.pyplot as plt\n",
    "\n",
    "w1x_real = [y_real[:,0][i]*(1-abs(y_real[:,1][i])) for i in range(len(y_real))]\n",
    "w1x_pred = [y_pred[:,0][i]*(1-abs(y_pred[:,1][i])) for i in range(len(y_pred))]\n",
    "\n",
    "fig, ax = plt.subplots(ncols=1, nrows=1, figsize=(5,5))\n",
    "ax2 = plt.axes([0.58, 0.24, 0.22, 0.22])\n",
    "# ax3 = plt.axes([0.735, 0.22, 0.12, 0.24])\n",
    "# fig.subplots_adjust(left=0, bottom=None, right=None, top=None, wspace=None, hspace=None)\n",
    "error0 = y_real[:,0]-y_pred[:,0]\n",
    "error1 = y_real[:,1]-y_pred[:,1]\n",
    "error3 = [w1x_real[i]-w1x_pred[i] for i in range(len(wx_real))]\n",
    "# df['Target'] = df['Target'].astype('category')\n",
    "\n",
    "p1 = ax.scatter(w1x_real, w1x_pred) # error is found by mse generated curves vs target generated curves\n",
    "cb = colorbar(p1, False)\n",
    "# cb.ax.set_ylabel('Absolute error')\n",
    "\n",
    "ax.set_xlabel('True W(1-|x|)', fontsize=16)\n",
    "ax.set_ylabel('Predicted W(1-|x|)', fontsize=16)\n",
    "# legend1 = ax[0].legend(*p1.legend_elements(num=5), loc='upper left', title='Absolute error')\n",
    "ax.plot([0, 50], [0, 50], c='r', ls='--')\n",
    "\n",
    "\n",
    "\n",
    "\n",
    "\n",
    "sns.distplot(error3, color=\"g\", kde=True, ax=ax2, norm_hist=True)\n",
    "ax2.set_xlabel('Absolute error')\n",
    "ax2.set_ylabel('Density')\n",
    "\n"
   ]
  },
  {
   "cell_type": "code",
   "execution_count": 15,
   "metadata": {},
   "outputs": [
    {
     "data": {
      "text/plain": [
       "Text(0, 0.5, 'Density')"
      ]
     },
     "execution_count": 15,
     "metadata": {},
     "output_type": "execute_result"
    },
    {
     "data": {
      "image/png": "[encoded data removed]",
      "text/plain": [
       "<Figure size 360x360 with 3 Axes>"
      ]
     },
     "metadata": {},
     "output_type": "display_data"
    }
   ],
   "source": [
    "import matplotlib.pyplot as plt\n",
    "\n",
    "fig, ax = plt.subplots(ncols=1, nrows=1, figsize=(5,5))\n",
    "ax2 = plt.axes([0.58, 0.24, 0.22, 0.22])\n",
    "# ax3 = plt.axes([0.735, 0.22, 0.12, 0.24])\n",
    "# fig.subplots_adjust(left=0, bottom=None, right=None, top=None, wspace=None, hspace=None)\n",
    "error0 = y_real[:,0]-y_pred[:,0]\n",
    "error1 = y_real[:,1]-y_pred[:,1]\n",
    "# df['Target'] = df['Target'].astype('category')\n",
    "\n",
    "p1 = ax.scatter(y_real[:,0], y_pred[:,0], c=error0)\n",
    "cb = colorbar(p1, False)\n",
    "# cb.ax.set_ylabel('Absolute error')\n",
    "\n",
    "ax.set_xlabel('True W', fontsize=16)\n",
    "ax.set_ylabel('Predicted W', fontsize=16)\n",
    "# legend1 = ax[0].legend(*p1.legend_elements(num=5), loc='upper left', title='Absolute error')\n",
    "ax.plot([0, 50], [0, 50], c='r', ls='--')\n",
    "\n",
    "\n",
    "\n",
    "\n",
    "\n",
    "sns.distplot(error0, color=\"g\", kde=True, ax=ax2, norm_hist=True)\n",
    "ax2.set_xlabel('Absolute error')\n",
    "ax2.set_ylabel('Density')\n",
    "\n"
   ]
  },
  {
   "cell_type": "markdown",
   "metadata": {},
   "source": [
    "https://machinelearningmastery.com/how-to-normalize-center-and-standardize-images-with-the-imagedatagenerator-in-keras/\n",
    "https://machinelearningmastery.com/best-practices-for-preparing-and-augmenting-image-data-for-convolutional-neural-networks/\n",
    "https://stackoverflow.com/questions/54525136/numpy-normalize-rgb-image-dataset"
   ]
  },
  {
   "cell_type": "code",
   "execution_count": 16,
   "metadata": {},
   "outputs": [
    {
     "data": {
      "text/plain": [
       "Text(0, 0.5, 'Density')"
      ]
     },
     "execution_count": 16,
     "metadata": {},
     "output_type": "execute_result"
    },
    {
     "data": {
      "image/png": "[encoded data removed]",
      "text/plain": [
       "<Figure size 360x360 with 3 Axes>"
      ]
     },
     "metadata": {},
     "output_type": "display_data"
    }
   ],
   "source": [
    "fig, ax = plt.subplots(ncols=1, nrows=1, figsize=(5,5))\n",
    "ax2 = plt.axes([0.58, 0.24, 0.22, 0.22])\n",
    "\n",
    "p2 = ax.scatter(y_real[:,1], y_pred[:,1], c=error1)\n",
    "cb2 = colorbar(p2, False)\n",
    "cb2.ax.set_ylabel('Absolute error', fontsize=12)\n",
    "# legend2 = ax[1].legend(*p2.legend_elements(num=6), loc='upper left', title='Absolute error')\n",
    "ax.set_xlabel('True x', fontsize=16)\n",
    "# ax[1].set_ylabel('Predicted x', fontsize=14)\n",
    "ax.set_ylim(-1.1, 1.1)\n",
    "ax.plot([-1, 1], [-1, 1], c='r', ls='--')\n",
    "\n",
    "sns.distplot(error1, color=\"g\", kde=True, ax=ax2, norm_hist=True)\n",
    "ax2.set_xlabel('Absolute error')\n",
    "ax2.set_ylabel('Density')"
   ]
  }
 ],
 "metadata": {
  "file_extension": ".py",
  "kernelspec": {
   "display_name": "Python 3.6.7 64-bit",
   "language": "python",
   "name": "python36764bit9169235a8cf747e893d333485dd41090"
  },
  "language_info": {
   "codemirror_mode": {
    "name": "ipython",
    "version": 3
   },
   "file_extension": ".py",
   "mimetype": "text/x-python",
   "name": "python",
   "nbconvert_exporter": "python",
   "pygments_lexer": "ipython3",
   "version": "3.6.7"
  },
  "mimetype": "text/x-python",
  "name": "python",
  "npconvert_exporter": "python",
  "pygments_lexer": "ipython3",
  "version": 3
 },
 "nbformat": 4,
 "nbformat_minor": 2
}